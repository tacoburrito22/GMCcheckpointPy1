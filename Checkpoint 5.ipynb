{
 "cells": [
  {
   "cell_type": "markdown",
   "metadata": {},
   "source": [
    "# Q1"
   ]
  },
  {
   "cell_type": "code",
   "execution_count": null,
   "metadata": {},
   "outputs": [],
   "source": [
    "n = []\n",
    "x = int(input(\"nbr = \"))\n",
    "for i in range(x):\n",
    "    print(i+1,' = ',end = ' ')\n",
    "    y = int(input())\n",
    "    n.append(y)\n",
    "target=int(input('type your desired target'))\n",
    "for i in range (len(n)):\n",
    "    for j in range (1,(len(n))):\n",
    "        if n[i]+n[j]==target:\n",
    "            print(i,j)\n",
    "        "
   ]
  },
  {
   "cell_type": "markdown",
   "metadata": {},
   "source": [
    "# Q2"
   ]
  },
  {
   "cell_type": "code",
   "execution_count": 41,
   "metadata": {},
   "outputs": [
    {
     "name": "stdout",
     "output_type": "stream",
     "text": [
      "Enter number of elements: 3\n",
      "Enter element: 2\n",
      "Enter element: 9\n",
      "Enter element: 4\n",
      "Subsets: \n",
      "[[], [9], [4], [4, 9], [2], [2, 9], [2, 4], [2, 4, 9]]\n"
     ]
    }
   ],
   "source": [
    "class sub:  \n",
    "    def f1(self, s1):  \n",
    "        return self.f2([], sorted(s1))  \n",
    " \n",
    "    def f2(self, curr, s1):  \n",
    "        if s1:  \n",
    "            return self.f2(curr, s1[1:]) + self.f2(curr + [s1[0]], s1[1:])  \n",
    "        return [curr]  \n",
    "a=[]\n",
    "n=int(input(\"Enter number of elements: \"))\n",
    "for i in range(0,n):\n",
    "    b=int(input(\"Enter element: \"))\n",
    "    a.append(b)\n",
    "print(\"Subsets: \")\n",
    "print(sub().f1(a))"
   ]
  },
  {
   "cell_type": "markdown",
   "metadata": {},
   "source": [
    "# Q3"
   ]
  },
  {
   "cell_type": "code",
   "execution_count": 46,
   "metadata": {},
   "outputs": [
    {
     "name": "stdout",
     "output_type": "stream",
     "text": [
      "[[-10, 2, 8], [-7, -3, 10]]\n"
     ]
    }
   ],
   "source": [
    "class sum:\n",
    " def meth(self, num):\n",
    "        nums, result, i = sorted(num), [], 0\n",
    "        while i < len(num) - 2:\n",
    "            j, k = i + 1, len(num) - 1\n",
    "            while j < k:\n",
    "                if num[i] + num[j] + num[k] < 0:\n",
    "                    j += 1\n",
    "                elif num[i] + num[j] + num[k] > 0:\n",
    "                    k -= 1\n",
    "                else:\n",
    "                    result.append([num[i], num[j], num[k]])\n",
    "                    j, k = j + 1, k - 1\n",
    "                    while j < k and num[j] == num[j - 1]:\n",
    "                        j += 1\n",
    "                    while j < k and num[k] == num[k + 1]:\n",
    "                        k -= 1\n",
    "            i += 1\n",
    "            while i < len(num) - 2 and num[i] == num[i - 1]:\n",
    "                i += 1\n",
    "        return result\n",
    "\n",
    "print(sum().meth([-25, -10, -7, -3, 2, 4, 8, 10]))"
   ]
  },
  {
   "cell_type": "markdown",
   "metadata": {},
   "source": [
    "# Q4"
   ]
  },
  {
   "cell_type": "code",
   "execution_count": 27,
   "metadata": {},
   "outputs": [
    {
     "name": "stdout",
     "output_type": "stream",
     "text": [
      "nbr = 7\n",
      "1  =  10\n",
      "2  =  20\n",
      "3  =  10\n",
      "4  =  40\n",
      "5  =  50\n",
      "6  =  60\n",
      "7  =  70\n",
      "type your desired target50\n",
      "0 3\n",
      "2 3\n",
      "3 2\n"
     ]
    }
   ],
   "source": [
    "class cls:\n",
    "    def func(self):\n",
    "        n = []\n",
    "        x = int(input(\"nbr = \"))\n",
    "        for i in range(x):\n",
    "            print(i+1,' = ',end = ' ')\n",
    "            y = int(input())\n",
    "            n.append(y)\n",
    "        target=int(input('type your desired target'))\n",
    "        res = []\n",
    "        for i in range (len(n)):\n",
    "            for j in range (1,(len(n))):\n",
    "                if n[i]+n[j]==target:\n",
    "                    l = [i,j]\n",
    "                    res.append(l)\n",
    "        return res\n",
    "        \n",
    "r = cls().func()\n",
    "for i in range(len(r)):\n",
    "    print(str(r[i][0]),str(r[i][1]))"
   ]
  },
  {
   "cell_type": "code",
   "execution_count": null,
   "metadata": {},
   "outputs": [],
   "source": []
  }
 ],
 "metadata": {
  "kernelspec": {
   "display_name": "Python 3",
   "language": "python",
   "name": "python3"
  },
  "language_info": {
   "codemirror_mode": {
    "name": "ipython",
    "version": 3
   },
   "file_extension": ".py",
   "mimetype": "text/x-python",
   "name": "python",
   "nbconvert_exporter": "python",
   "pygments_lexer": "ipython3",
   "version": "3.8.5"
  }
 },
 "nbformat": 4,
 "nbformat_minor": 4
}
