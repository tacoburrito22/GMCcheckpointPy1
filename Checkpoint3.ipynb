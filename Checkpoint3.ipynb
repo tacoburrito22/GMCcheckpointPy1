{
 "cells": [
  {
   "cell_type": "markdown",
   "metadata": {},
   "source": [
    "# Q1"
   ]
  },
  {
   "cell_type": "code",
   "execution_count": 8,
   "metadata": {},
   "outputs": [
    {
     "name": "stdout",
     "output_type": "stream",
     "text": [
      "type the length of the list3\n",
      "fill in the list with numbers6\n",
      "fill in the list with numbers2\n",
      "fill in the list with numbers2\n",
      "24.0\n"
     ]
    }
   ],
   "source": [
    "l=[]\n",
    "x=int(input('type the length of the list'))\n",
    "for i in range(0,x):\n",
    "    y=float(input('fill in the list with numbers'))\n",
    "    l.append(y)\n",
    "s=1\n",
    "for i in range (len(l)):\n",
    "    s=s*l[i]\n",
    "print(s)"
   ]
  },
  {
   "cell_type": "markdown",
   "metadata": {},
   "source": [
    "# Q2"
   ]
  },
  {
   "cell_type": "code",
   "execution_count": 19,
   "metadata": {},
   "outputs": [
    {
     "name": "stdout",
     "output_type": "stream",
     "text": [
      "enter the desired number of tuples3\n",
      "enter the first element in the tuple number 1: 2\n",
      "enter the second element in the tuple number 1: 1\n",
      "enter the first element in the tuple number 2: 9\n",
      "enter the second element in the tuple number 2: 8\n",
      "enter the first element in the tuple number 3: 1\n",
      "enter the second element in the tuple number 3: 11\n",
      "[(2, 1), (9, 8), (1, 11)]\n"
     ]
    }
   ],
   "source": [
    "l=[]\n",
    "n=int(input('enter the desired number of tuples'))\n",
    "for i in range (n):\n",
    "    x=int(input('enter the first element in the tuple number {}: '.format(i+1)))\n",
    "    y=int(input('enter the second element in the tuple number {}: '.format(i+1)))\n",
    "    tup=(x,y)\n",
    "    l.append(tup)\n",
    "sort=True\n",
    "while (sort==True):\n",
    "    sort=False\n",
    "    for i in range (len(l)-1):\n",
    "        if (l[i][-1]>l[i+1][-1]):\n",
    "            tmp=l[i]\n",
    "            l[i]=l[i+1]\n",
    "            l[i+1]=tmp\n",
    "            sort=True\n",
    "print(l)\n"
   ]
  },
  {
   "cell_type": "markdown",
   "metadata": {},
   "source": [
    "# Q3"
   ]
  },
  {
   "cell_type": "code",
   "execution_count": 43,
   "metadata": {},
   "outputs": [
    {
     "name": "stdout",
     "output_type": "stream",
     "text": [
      "{'a': 400, 'b': 400, 'c': 300, 'd': 400}\n"
     ]
    }
   ],
   "source": [
    "d1 = {'a': 100, 'b': 200, 'c':300}\n",
    "d2 = {'a': 300, 'b': 200, 'd':400}\n",
    "for key in d1:\n",
    "    if key in d2:\n",
    "        d1[key] = d1[key] + d2[key]\n",
    "        d2.pop(key)\n",
    "d1.update(d2)\n",
    "print(d1)\n",
    "\n"
   ]
  },
  {
   "cell_type": "markdown",
   "metadata": {},
   "source": [
    "# Q4\n"
   ]
  },
  {
   "cell_type": "code",
   "execution_count": 1,
   "metadata": {},
   "outputs": [
    {
     "name": "stdout",
     "output_type": "stream",
     "text": [
      "enter an integer9\n",
      "{1: 1, 2: 4, 3: 9, 4: 16, 5: 25, 6: 36, 7: 49, 8: 64, 9: 81}\n"
     ]
    }
   ],
   "source": [
    "n=int(input('enter an integer'))\n",
    "dict1={}\n",
    "for i in range (1,n+1):\n",
    "    dict1[i]=i*i\n",
    "print(dict1)\n",
    "    "
   ]
  },
  {
   "cell_type": "markdown",
   "metadata": {},
   "source": [
    "# Q5"
   ]
  },
  {
   "cell_type": "code",
   "execution_count": 51,
   "metadata": {},
   "outputs": [
    {
     "name": "stdout",
     "output_type": "stream",
     "text": [
      "[('item3', '24.5'), ('item2', '15.10'), ('item1', '12.20')]\n"
     ]
    }
   ],
   "source": [
    "l=[('item1', '12.20'), ('item2', '15.10'), ('item3', '24.5')]\n",
    "for i in range(len(l) - 1):\n",
    "    for j in range(0 , len(l) - i - 1):\n",
    "        one , two = l[j][1].index('.') , l[j+1][1].index('.')\n",
    "        if float(l[j][1][one+1:len(l[j][1])]) > float(l[j+1][1][two+1:len(l[j+1][1])]) :\n",
    "            tmp=l[j]\n",
    "            l[j]=l[j+1]\n",
    "            l[j+1]=tmp\n",
    "print(l)"
   ]
  },
  {
   "cell_type": "code",
   "execution_count": 44,
   "metadata": {},
   "outputs": [
    {
     "name": "stdout",
     "output_type": "stream",
     "text": [
      "{'a': 400, 'b': 400, 'c': 300, 'd': 400}\n"
     ]
    }
   ],
   "source": []
  },
  {
   "cell_type": "code",
   "execution_count": null,
   "metadata": {},
   "outputs": [],
   "source": []
  }
 ],
 "metadata": {
  "kernelspec": {
   "display_name": "Python 3",
   "language": "python",
   "name": "python3"
  },
  "language_info": {
   "codemirror_mode": {
    "name": "ipython",
    "version": 3
   },
   "file_extension": ".py",
   "mimetype": "text/x-python",
   "name": "python",
   "nbconvert_exporter": "python",
   "pygments_lexer": "ipython3",
   "version": "3.8.5"
  }
 },
 "nbformat": 4,
 "nbformat_minor": 4
}
