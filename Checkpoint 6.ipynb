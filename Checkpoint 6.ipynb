{
 "cells": [
  {
   "cell_type": "markdown",
   "metadata": {},
   "source": [
    "# Q1"
   ]
  },
  {
   "cell_type": "code",
   "execution_count": 5,
   "metadata": {},
   "outputs": [
    {
     "name": "stdout",
     "output_type": "stream",
     "text": [
      "NumPy Array:\n",
      "[[1 2 3]\n",
      " [4 5 6]]\n",
      "[[1, 2, 3], [4, 5, 6]]\n"
     ]
    }
   ],
   "source": [
    "import numpy as np\n",
    "arr = np.array([[1, 2, 3], [4, 5, 6]])\n",
    "\n",
    "print(f'NumPy Array:\\n{arr}')\n",
    "\n",
    "l = arr.tolist()\n",
    "print (l)"
   ]
  },
  {
   "cell_type": "markdown",
   "metadata": {},
   "source": [
    "# Q2"
   ]
  },
  {
   "cell_type": "code",
   "execution_count": 20,
   "metadata": {},
   "outputs": [
    {
     "name": "stdout",
     "output_type": "stream",
     "text": [
      "[[3 8 1 7 6]\n",
      " [5 5 2 1 2]\n",
      " [9 8 6 3 8]\n",
      " [1 2 0 6 7]\n",
      " [9 2 6 2 6]]\n",
      "26\n"
     ]
    }
   ],
   "source": [
    "import numpy as np\n",
    "array=np.random.randint(0, 10, size=(5,5))\n",
    "print(array)\n",
    "s=0\n",
    "for i in range(5):\n",
    "    s+=array[i,i]\n",
    "print(s)"
   ]
  },
  {
   "cell_type": "markdown",
   "metadata": {},
   "source": [
    "# Q3\n"
   ]
  },
  {
   "cell_type": "code",
   "execution_count": 5,
   "metadata": {},
   "outputs": [
    {
     "name": "stdout",
     "output_type": "stream",
     "text": [
      "x:2\n",
      "[3, 5]\n"
     ]
    }
   ],
   "source": [
    "import numpy as np\n",
    "a=np.array([[1,2],[3,5]])\n",
    "l=[]\n",
    "x=int(input('x:'))\n",
    "for i in range(0,2):\n",
    "    for j in range(0,2):\n",
    "        if a[i,j]>x:\n",
    "            t=a[i,j]\n",
    "            l.append(t)\n",
    "print(l)\n"
   ]
  },
  {
   "cell_type": "markdown",
   "metadata": {},
   "source": [
    "# Q4"
   ]
  },
  {
   "cell_type": "code",
   "execution_count": 20,
   "metadata": {},
   "outputs": [
    {
     "name": "stdout",
     "output_type": "stream",
     "text": [
      "[15, 9, 6, 8, 6, 1, 4, 17, 12, 9, 7, 8, 15, 8, 16, 7, 10, 12, 19, 10, 13, 5, 10, 7, 8]\n"
     ]
    }
   ],
   "source": [
    "import numpy as np\n",
    "a=np.random.randint(0, 11, size=(5,5))\n",
    "b=np.random.randint(0, 11, size=(5,5))\n",
    "c=[]\n",
    "for i in range (len(a)):\n",
    "    for j in range(len(a)):\n",
    "        c.append(a[i,j]+b[i,j])\n",
    "print(c)"
   ]
  },
  {
   "cell_type": "markdown",
   "metadata": {},
   "source": [
    "# Q5"
   ]
  },
  {
   "cell_type": "code",
   "execution_count": 9,
   "metadata": {},
   "outputs": [
    {
     "name": "stdout",
     "output_type": "stream",
     "text": [
      "[[7 7 5]\n",
      " [2 1 9]\n",
      " [5 5 4]]\n",
      "[-5, -8, -4]\n"
     ]
    }
   ],
   "source": [
    "import numpy as np\n",
    "a=np.random.randint(0,10, size=(3,3))\n",
    "l=[]\n",
    "j=0\n",
    "for i in range (0,len(a)):\n",
    "    t=a[i,j]-a[i,j+1]-a[i,j+2]\n",
    "    l.append(t)\n",
    "print(a)\n",
    "print(l)\n",
    "        "
   ]
  },
  {
   "cell_type": "code",
   "execution_count": null,
   "metadata": {},
   "outputs": [],
   "source": []
  },
  {
   "cell_type": "code",
   "execution_count": null,
   "metadata": {},
   "outputs": [],
   "source": []
  }
 ],
 "metadata": {
  "kernelspec": {
   "display_name": "Python 3",
   "language": "python",
   "name": "python3"
  },
  "language_info": {
   "codemirror_mode": {
    "name": "ipython",
    "version": 3
   },
   "file_extension": ".py",
   "mimetype": "text/x-python",
   "name": "python",
   "nbconvert_exporter": "python",
   "pygments_lexer": "ipython3",
   "version": "3.8.5"
  }
 },
 "nbformat": 4,
 "nbformat_minor": 4
}
