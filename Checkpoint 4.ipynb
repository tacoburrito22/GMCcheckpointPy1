{
 "cells": [
  {
   "cell_type": "markdown",
   "metadata": {},
   "source": [
    "# Q1"
   ]
  },
  {
   "cell_type": "code",
   "execution_count": 12,
   "metadata": {},
   "outputs": [
    {
     "name": "stdout",
     "output_type": "stream",
     "text": [
      "9\n"
     ]
    }
   ],
   "source": [
    "def max(a,b,c):\n",
    "    if a>b and a>c:\n",
    "        return a\n",
    "    elif b>a and b>c:\n",
    "        return b\n",
    "    else:\n",
    "        return c\n",
    "print(max(5,2,9))"
   ]
  },
  {
   "cell_type": "markdown",
   "metadata": {},
   "source": [
    "# Q2\n"
   ]
  },
  {
   "cell_type": "code",
   "execution_count": 5,
   "metadata": {},
   "outputs": [
    {
     "name": "stdout",
     "output_type": "stream",
     "text": [
      "(50, 30)\n"
     ]
    }
   ],
   "source": [
    "def addsub(a,b):\n",
    "    return(a+b,a-b)\n",
    "print(addsub(40,10))"
   ]
  },
  {
   "cell_type": "markdown",
   "metadata": {},
   "source": [
    "# Q3"
   ]
  },
  {
   "cell_type": "code",
   "execution_count": 13,
   "metadata": {},
   "outputs": [
    {
     "name": "stdout",
     "output_type": "stream",
     "text": [
      "The sums list:  45  -The multiplied list:  362880\n",
      "Even position sums :  20  -Odd position multips:  945\n"
     ]
    }
   ],
   "source": [
    "\n",
    "l=[1,2,3,4,5,6,7,8,9]\n",
    "l1=[]\n",
    "l2=[]\n",
    "def add(l):\n",
    "    s=0\n",
    "    for i in range (len(l)):\n",
    "        s+=l[i]\n",
    "    return(s)\n",
    "a=add(l)\n",
    "def mul(l):\n",
    "    s=1\n",
    "    for i in range (len(l)):\n",
    "        s=s*l[i]\n",
    "    return(s)\n",
    "m=mul(l)\n",
    "print(\"The sums list: \",a,\" -The multiplied list: \",m)\n",
    "def addmul(l,l1,l2):\n",
    "    for i in range (len(l)):\n",
    "        if (i%2==0):\n",
    "            l1.append(l[i])\n",
    "        else:\n",
    "            l2.append(l[i])\n",
    "    e=add(l2)\n",
    "    o=mul(l1)\n",
    "    print(\"Even position sums : \",e,\" -Odd position multips: \",o)\n",
    "addmul(l,l1,l2)"
   ]
  },
  {
   "cell_type": "markdown",
   "metadata": {},
   "source": [
    "# Q4"
   ]
  },
  {
   "cell_type": "code",
   "execution_count": 14,
   "metadata": {},
   "outputs": [
    {
     "name": "stdout",
     "output_type": "stream",
     "text": [
      "type in your hyphen seperated words: green-red-yellow-black-white\n",
      "['black', 'green', 'red', 'white', 'yellow']\n"
     ]
    }
   ],
   "source": [
    "w=input(\"type in your hyphen seperated words: \")\n",
    "def order(w):\n",
    "    s=w.split(\"-\")\n",
    "    s=sorted(s)\n",
    "    print(s)\n",
    "order(w)\n",
    "    "
   ]
  },
  {
   "cell_type": "markdown",
   "metadata": {},
   "source": [
    "# Q5\n"
   ]
  },
  {
   "cell_type": "code",
   "execution_count": 10,
   "metadata": {},
   "outputs": [
    {
     "name": "stdout",
     "output_type": "stream",
     "text": [
      "give d :100,150,180\n",
      "[18, 22, 24]\n"
     ]
    }
   ],
   "source": [
    "import math\n",
    "l=[]\n",
    "d=input('give d :')\n",
    "def cal(l,d):\n",
    "    x=d.split(\",\")\n",
    "    for i in x:\n",
    "        q=math.sqrt((2 * 50 * int(i))/30)\n",
    "        l.append(int(q))\n",
    "    print(l)\n",
    "cal(l,d)\n",
    "    "
   ]
  },
  {
   "cell_type": "code",
   "execution_count": null,
   "metadata": {},
   "outputs": [],
   "source": []
  }
 ],
 "metadata": {
  "kernelspec": {
   "display_name": "Python 3",
   "language": "python",
   "name": "python3"
  },
  "language_info": {
   "codemirror_mode": {
    "name": "ipython",
    "version": 3
   },
   "file_extension": ".py",
   "mimetype": "text/x-python",
   "name": "python",
   "nbconvert_exporter": "python",
   "pygments_lexer": "ipython3",
   "version": "3.8.5"
  }
 },
 "nbformat": 4,
 "nbformat_minor": 4
}
